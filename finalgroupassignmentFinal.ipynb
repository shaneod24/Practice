{
  "nbformat": 4,
  "nbformat_minor": 0,
  "metadata": {
    "colab": {
      "name": "Copy of  GroupAssignment1-Template.ipynb",
      "provenance": [],
      "include_colab_link": true
    },
    "kernelspec": {
      "name": "python3",
      "display_name": "Python 3"
    }
  },
  "cells": [
    {
      "cell_type": "markdown",
      "metadata": {
        "id": "view-in-github",
        "colab_type": "text"
      },
      "source": [
        "<a href=\"https://colab.research.google.com/github/shaneod24/Practice/blob/master/finalgroupassignmentFinal.ipynb\" target=\"_parent\"><img src=\"https://colab.research.google.com/assets/colab-badge.svg\" alt=\"Open In Colab\"/></a>"
      ]
    },
    {
      "cell_type": "markdown",
      "metadata": {
        "id": "UblhAIGuGF27"
      },
      "source": [
        "# Amazon Online Shopping Data Study"
      ]
    },
    {
      "cell_type": "markdown",
      "metadata": {
        "id": "Hza0pK3G2r05"
      },
      "source": [
        "#Introduction(Final)\r\n"
      ]
    },
    {
      "cell_type": "markdown",
      "metadata": {
        "id": "44R7oYg22waM"
      },
      "source": [
        "We chose Amazon to do this project because, in our opinion, it had the highest amount of application to the course. Through some research, we found that Amazon uses sql in a lot of its products (online store, fulfillment, etc.). The most relatable platform for the class that they offer is their online store, so we decided to make an sql database and accompanying ER diagram that we think would fit this platform and help anyone who views our project to better visualize Amazon’s backend. We went through many processes with the ER diagram. We mapped it out with our attributes, entities, connectivity, cardinality, and specific keys. In a subsequent version we converted it into first normal form, and from there it has been accurate within the context of the group assignments."
      ]
    },
    {
      "cell_type": "markdown",
      "metadata": {
        "id": "Ryc9lnPa4Vy_"
      },
      "source": [
        "#ER Diagram (Final)"
      ]
    },
    {
      "cell_type": "markdown",
      "metadata": {
        "id": "h2mJWTewHLSn"
      },
      "source": [
        "Draw IO Entity Relationship Diagram \n",
        "\n",
        "- save your ER Diagram in Draw.io as PNG and upload it to GitHub\n",
        "\n",
        "  - then add an image to your notebook\n",
        "\n",
        "![Our diagram](https://raw.githubusercontent.com/shaneod24/Practice/master/Images/this.png)\n",
        "\n"
      ]
    },
    {
      "cell_type": "markdown",
      "metadata": {
        "id": "ayJ7hWJ05Og3"
      },
      "source": [
        "#Discuss any specifics in regards to your ER Diagram(Final)"
      ]
    },
    {
      "cell_type": "markdown",
      "metadata": {
        "id": "AiZXrfSMGqZm"
      },
      "source": [
        "1. Order\n",
        "\n",
        "--The specific data that is needed for the fulfillment and payment process is contained in the order entity. This includes orderid, customer, item, shipping method, and payment method. \n",
        "\n",
        "2. Customer\n",
        "\n",
        "-- This holds the neccessary data to identify the customer in the buying process and set address parameters. This entity includes the attributes customerid, first name, last name, street address, city, and zip code\n",
        "\n",
        "3. Payment Method\n",
        "\n",
        "-- This holds data that is needed to process the payment in the buying process. This includes the attributes paymentmethodid, name, company, and authorization method\n",
        "\n",
        "4. Item\n",
        "\n",
        "-- This entity holds the data needed to identify and get characteristics of an item in an order. This entity has the attributes itemid, itemname, price, and tax.\n",
        "\n",
        "5. Shipping Method\n",
        "\n",
        "-- This holds the data needed for the shipping process of Amazon orders. This has the attributes shipperid,name, service, and shipping estimate."
      ]
    },
    {
      "cell_type": "markdown",
      "metadata": {
        "id": "cGS0g35n73-H"
      },
      "source": [
        "#Discuss if your ER Diagram would be valid in 2nd Normal Form(Final)"
      ]
    },
    {
      "cell_type": "markdown",
      "metadata": {
        "id": "VMrblY8t77xy"
      },
      "source": [
        "The ER diagram is in second normal form because there are no partial dependencies. In all of the tables other than the order table, all of the attributes depend on the primary key. For the order table, there is not a composite primary key and all of the attributes are foreign keys which are not partially dependent."
      ]
    },
    {
      "cell_type": "markdown",
      "metadata": {
        "id": "sOEp06l_P8jO"
      },
      "source": [
        "#Discuss if your ER Diagram would be valid in 3rd Normal Form(Final)"
      ]
    },
    {
      "cell_type": "markdown",
      "metadata": {
        "id": "1aPLHwjhTehH"
      },
      "source": [
        "For third normal form, the ER diagram does satisfy the first part of third normal form because it is in second normal form. However, the ER diagram violates third normal form because there is a transitive dependency. There may be many, but if the diagram has one, it violates third normal form. When looking at the payment method table, the attributes name, company, and authorizationmethod are transitively dependent. If the name changes, the company and authorizationmethod change. Therefore, this violates third normal form (I realize “authorizationmethod” will result in a spelling error but is spelled this way to accurately represent the attribute name)."
      ]
    },
    {
      "cell_type": "markdown",
      "metadata": {
        "id": "3gUsxzt0TmSl"
      },
      "source": [
        "#Discuss if your ER Diagram would be valid in Boyce-Codd Normal Form(Final)"
      ]
    },
    {
      "cell_type": "markdown",
      "metadata": {
        "id": "XS_DUh_9To3u"
      },
      "source": [
        "For Boyce-Codd normal form, the ER diagram violates this form of normalization. Boyce-Codd is a normal form that is more “extreme” than third normal form. This means that in order for the ER diagram to be in Boyce-Codd normal form, it must first be in third normal form. As discussed in the previous section, the ER diagram violates third normal form due to a transitive dependency. For this reason, the ER diagram automatically violates Boyce-Codd normal form without having to do any subsequent analysis on the other requirements of Boyce-Codd normal form."
      ]
    },
    {
      "cell_type": "markdown",
      "metadata": {
        "id": "n_yyI9FZVoIt"
      },
      "source": [
        "#Discuss how you created your database, tables, and inserted data(Final)"
      ]
    },
    {
      "cell_type": "markdown",
      "metadata": {
        "id": "8MjMLlagVqxX"
      },
      "source": [
        "The database was created using the SQL side of Google collab. The first two lines of code loaded SQL and created the database. Then we used the CREATE TABLE command with the respective parameters with data types and key declaration to create all of the tables with their entities. We then used a series of INSERT INTO statements to add the data to each of the tables. We then used the select * command to display the tables to make sure that they were created and formatted correctly."
      ]
    },
    {
      "cell_type": "markdown",
      "metadata": {
        "id": "qOyPPEhr8beP"
      },
      "source": [
        "#Provide all code to create and populate your database(Final)"
      ]
    },
    {
      "cell_type": "code",
      "metadata": {
        "id": "idy5BshipvjS",
        "colab": {
          "base_uri": "https://localhost:8080/"
        },
        "outputId": "c2b9164d-846d-4ff9-a45f-aa321edf609a"
      },
      "source": [
        "%load_ext sql"
      ],
      "execution_count": null,
      "outputs": [
        {
          "output_type": "stream",
          "text": [
            "The sql extension is already loaded. To reload it, use:\n",
            "  %reload_ext sql\n"
          ],
          "name": "stdout"
        }
      ]
    },
    {
      "cell_type": "code",
      "metadata": {
        "id": "xtxZyue_rVvn",
        "colab": {
          "base_uri": "https://localhost:8080/",
          "height": 36
        },
        "outputId": "693eb62f-e291-46b2-fa63-fcf73103dc52"
      },
      "source": [
        "%sql sqlite:///amazonDatabase.db"
      ],
      "execution_count": null,
      "outputs": [
        {
          "output_type": "execute_result",
          "data": {
            "application/vnd.google.colaboratory.intrinsic+json": {
              "type": "string"
            },
            "text/plain": [
              "'Connected: @amazonDatabase.db'"
            ]
          },
          "metadata": {
            "tags": []
          },
          "execution_count": 6
        }
      ]
    },
    {
      "cell_type": "code",
      "metadata": {
        "id": "brT9htpvp_4Q",
        "colab": {
          "base_uri": "https://localhost:8080/"
        },
        "outputId": "c5ef84eb-5aba-4f26-e350-3935d67272c6"
      },
      "source": [
        "%%sql\n",
        "CREATE TABLE Orders(orderId real primary key, customer real, item real, shippingMethod real, paymentMethod real);"
      ],
      "execution_count": null,
      "outputs": [
        {
          "output_type": "stream",
          "text": [
            " * sqlite:///amazonDatabase.db\n",
            "Done.\n"
          ],
          "name": "stdout"
        },
        {
          "output_type": "execute_result",
          "data": {
            "text/plain": [
              "[]"
            ]
          },
          "metadata": {
            "tags": []
          },
          "execution_count": 42
        }
      ]
    },
    {
      "cell_type": "code",
      "metadata": {
        "id": "MzAEHkK9uMaK",
        "colab": {
          "base_uri": "https://localhost:8080/"
        },
        "outputId": "6dc488c1-44c2-4775-a55e-662a6246adfe"
      },
      "source": [
        "%%sql\n",
        "drop table Orders"
      ],
      "execution_count": null,
      "outputs": [
        {
          "output_type": "stream",
          "text": [
            " * sqlite:///amazonDatabase.db\n",
            "Done.\n"
          ],
          "name": "stdout"
        },
        {
          "output_type": "execute_result",
          "data": {
            "text/plain": [
              "[]"
            ]
          },
          "metadata": {
            "tags": []
          },
          "execution_count": 41
        }
      ]
    },
    {
      "cell_type": "code",
      "metadata": {
        "id": "RupWFbwIsiNh",
        "colab": {
          "base_uri": "https://localhost:8080/"
        },
        "outputId": "f8d81e98-1d09-43c3-86e7-bb78f33bd06d"
      },
      "source": [
        "%%sql \n",
        "INSERT INTO Orders VALUES(1,1,1,1,1);"
      ],
      "execution_count": null,
      "outputs": [
        {
          "output_type": "stream",
          "text": [
            " * sqlite:///amazonDatabase.db\n",
            "1 rows affected.\n"
          ],
          "name": "stdout"
        },
        {
          "output_type": "execute_result",
          "data": {
            "text/plain": [
              "[]"
            ]
          },
          "metadata": {
            "tags": []
          },
          "execution_count": 43
        }
      ]
    },
    {
      "cell_type": "code",
      "metadata": {
        "id": "opTgdgQWtfF-",
        "colab": {
          "base_uri": "https://localhost:8080/"
        },
        "outputId": "b0bde89d-b787-4bb4-b2e9-ed99d1446433"
      },
      "source": [
        "%%sql\n",
        "INSERT INTO Orders VALUES(2,2,2,2,2);\n",
        "INSERT INTO Orders VALUES(3,3,3,3,3);\n",
        "INSERT INTO Orders VALUES(4,4,4,4,4);\n",
        "INSERT INTO Orders VALUES(5,5,5,5,5);"
      ],
      "execution_count": null,
      "outputs": [
        {
          "output_type": "stream",
          "text": [
            " * sqlite:///amazonDatabase.db\n",
            "1 rows affected.\n",
            "1 rows affected.\n",
            "1 rows affected.\n",
            "1 rows affected.\n"
          ],
          "name": "stdout"
        },
        {
          "output_type": "execute_result",
          "data": {
            "text/plain": [
              "[]"
            ]
          },
          "metadata": {
            "tags": []
          },
          "execution_count": 44
        }
      ]
    },
    {
      "cell_type": "code",
      "metadata": {
        "id": "E8ipY74EtUAJ",
        "colab": {
          "base_uri": "https://localhost:8080/",
          "height": 184
        },
        "outputId": "f134c888-aba8-4841-e44e-9e9b137fb8f4"
      },
      "source": [
        "%%sql\n",
        "select * from Orders"
      ],
      "execution_count": null,
      "outputs": [
        {
          "output_type": "stream",
          "text": [
            " * sqlite:///amazonDatabase.db\n",
            "Done.\n"
          ],
          "name": "stdout"
        },
        {
          "output_type": "execute_result",
          "data": {
            "text/html": [
              "<table>\n",
              "    <tr>\n",
              "        <th>orderId</th>\n",
              "        <th>customer</th>\n",
              "        <th>item</th>\n",
              "        <th>shippingMethod</th>\n",
              "        <th>paymentMethod</th>\n",
              "    </tr>\n",
              "    <tr>\n",
              "        <td>1.0</td>\n",
              "        <td>1.0</td>\n",
              "        <td>1.0</td>\n",
              "        <td>1.0</td>\n",
              "        <td>1.0</td>\n",
              "    </tr>\n",
              "    <tr>\n",
              "        <td>2.0</td>\n",
              "        <td>2.0</td>\n",
              "        <td>2.0</td>\n",
              "        <td>2.0</td>\n",
              "        <td>2.0</td>\n",
              "    </tr>\n",
              "    <tr>\n",
              "        <td>3.0</td>\n",
              "        <td>3.0</td>\n",
              "        <td>3.0</td>\n",
              "        <td>3.0</td>\n",
              "        <td>3.0</td>\n",
              "    </tr>\n",
              "    <tr>\n",
              "        <td>4.0</td>\n",
              "        <td>4.0</td>\n",
              "        <td>4.0</td>\n",
              "        <td>4.0</td>\n",
              "        <td>4.0</td>\n",
              "    </tr>\n",
              "    <tr>\n",
              "        <td>5.0</td>\n",
              "        <td>5.0</td>\n",
              "        <td>5.0</td>\n",
              "        <td>5.0</td>\n",
              "        <td>5.0</td>\n",
              "    </tr>\n",
              "</table>"
            ],
            "text/plain": [
              "[(1.0, 1.0, 1.0, 1.0, 1.0),\n",
              " (2.0, 2.0, 2.0, 2.0, 2.0),\n",
              " (3.0, 3.0, 3.0, 3.0, 3.0),\n",
              " (4.0, 4.0, 4.0, 4.0, 4.0),\n",
              " (5.0, 5.0, 5.0, 5.0, 5.0)]"
            ]
          },
          "metadata": {
            "tags": []
          },
          "execution_count": 45
        }
      ]
    },
    {
      "cell_type": "code",
      "metadata": {
        "id": "s0puqFIduY32",
        "colab": {
          "base_uri": "https://localhost:8080/"
        },
        "outputId": "3f33e841-d2ec-4399-c23f-284a7cd4ae97"
      },
      "source": [
        "%%sql\n",
        "CREATE TABLE Item(itemId real primary key, itemName text, price real, tax real);"
      ],
      "execution_count": null,
      "outputs": [
        {
          "output_type": "stream",
          "text": [
            " * sqlite:///amazonDatabase.db\n",
            "Done.\n"
          ],
          "name": "stdout"
        },
        {
          "output_type": "execute_result",
          "data": {
            "text/plain": [
              "[]"
            ]
          },
          "metadata": {
            "tags": []
          },
          "execution_count": 29
        }
      ]
    },
    {
      "cell_type": "code",
      "metadata": {
        "id": "5rotwxF_uoTp",
        "colab": {
          "base_uri": "https://localhost:8080/",
          "height": 625
        },
        "outputId": "de67075b-e77c-4d78-d952-58f44ea7d123"
      },
      "source": [
        "%%sql\n",
        "INSERT INTO Item VALUES(2,'box1',2,5);\n",
        "INSERT INTO Item VALUES(3,'box2',3,10);\n",
        "INSERT INTO Item VALUES(4,'box3',4,15);\n",
        "INSERT INTO item VALUES(5,'box4',5,20);\n"
      ],
      "execution_count": null,
      "outputs": [
        {
          "output_type": "stream",
          "text": [
            " * sqlite:///amazonDatabase.db\n"
          ],
          "name": "stdout"
        },
        {
          "output_type": "error",
          "ename": "IntegrityError",
          "evalue": "ignored",
          "traceback": [
            "\u001b[0;31m---------------------------------------------------------------------------\u001b[0m",
            "\u001b[0;31mIntegrityError\u001b[0m                            Traceback (most recent call last)",
            "\u001b[0;32m/usr/local/lib/python3.6/dist-packages/sqlalchemy/engine/base.py\u001b[0m in \u001b[0;36m_execute_context\u001b[0;34m(self, dialect, constructor, statement, parameters, *args)\u001b[0m\n\u001b[1;32m   1276\u001b[0m                     self.dialect.do_execute(\n\u001b[0;32m-> 1277\u001b[0;31m                         \u001b[0mcursor\u001b[0m\u001b[0;34m,\u001b[0m \u001b[0mstatement\u001b[0m\u001b[0;34m,\u001b[0m \u001b[0mparameters\u001b[0m\u001b[0;34m,\u001b[0m \u001b[0mcontext\u001b[0m\u001b[0;34m\u001b[0m\u001b[0;34m\u001b[0m\u001b[0m\n\u001b[0m\u001b[1;32m   1278\u001b[0m                     )\n",
            "\u001b[0;32m/usr/local/lib/python3.6/dist-packages/sqlalchemy/engine/default.py\u001b[0m in \u001b[0;36mdo_execute\u001b[0;34m(self, cursor, statement, parameters, context)\u001b[0m\n\u001b[1;32m    592\u001b[0m     \u001b[0;32mdef\u001b[0m \u001b[0mdo_execute\u001b[0m\u001b[0;34m(\u001b[0m\u001b[0mself\u001b[0m\u001b[0;34m,\u001b[0m \u001b[0mcursor\u001b[0m\u001b[0;34m,\u001b[0m \u001b[0mstatement\u001b[0m\u001b[0;34m,\u001b[0m \u001b[0mparameters\u001b[0m\u001b[0;34m,\u001b[0m \u001b[0mcontext\u001b[0m\u001b[0;34m=\u001b[0m\u001b[0;32mNone\u001b[0m\u001b[0;34m)\u001b[0m\u001b[0;34m:\u001b[0m\u001b[0;34m\u001b[0m\u001b[0;34m\u001b[0m\u001b[0m\n\u001b[0;32m--> 593\u001b[0;31m         \u001b[0mcursor\u001b[0m\u001b[0;34m.\u001b[0m\u001b[0mexecute\u001b[0m\u001b[0;34m(\u001b[0m\u001b[0mstatement\u001b[0m\u001b[0;34m,\u001b[0m \u001b[0mparameters\u001b[0m\u001b[0;34m)\u001b[0m\u001b[0;34m\u001b[0m\u001b[0;34m\u001b[0m\u001b[0m\n\u001b[0m\u001b[1;32m    594\u001b[0m \u001b[0;34m\u001b[0m\u001b[0m\n",
            "\u001b[0;31mIntegrityError\u001b[0m: UNIQUE constraint failed: Item.itemId",
            "\nThe above exception was the direct cause of the following exception:\n",
            "\u001b[0;31mIntegrityError\u001b[0m                            Traceback (most recent call last)",
            "\u001b[0;32m<ipython-input-31-7a6d1561570e>\u001b[0m in \u001b[0;36m<module>\u001b[0;34m()\u001b[0m\n\u001b[0;32m----> 1\u001b[0;31m \u001b[0mget_ipython\u001b[0m\u001b[0;34m(\u001b[0m\u001b[0;34m)\u001b[0m\u001b[0;34m.\u001b[0m\u001b[0mrun_cell_magic\u001b[0m\u001b[0;34m(\u001b[0m\u001b[0;34m'sql'\u001b[0m\u001b[0;34m,\u001b[0m \u001b[0;34m''\u001b[0m\u001b[0;34m,\u001b[0m \u001b[0;34m\"INSERT INTO Item VALUES(2,'box1',2,5);\\nINSERT INTO Item VALUES(3,'box2',3,10);\\nINSERT INTO Item VALUES(4,'box3',4,15);\\nINSERT INTO item VALUES(5,'box4',5,20);\\nINSERT INTO item VALUES(6,'box5',5,25);\"\u001b[0m\u001b[0;34m)\u001b[0m\u001b[0;34m\u001b[0m\u001b[0;34m\u001b[0m\u001b[0m\n\u001b[0m",
            "\u001b[0;32m/usr/local/lib/python3.6/dist-packages/IPython/core/interactiveshell.py\u001b[0m in \u001b[0;36mrun_cell_magic\u001b[0;34m(self, magic_name, line, cell)\u001b[0m\n\u001b[1;32m   2115\u001b[0m             \u001b[0mmagic_arg_s\u001b[0m \u001b[0;34m=\u001b[0m \u001b[0mself\u001b[0m\u001b[0;34m.\u001b[0m\u001b[0mvar_expand\u001b[0m\u001b[0;34m(\u001b[0m\u001b[0mline\u001b[0m\u001b[0;34m,\u001b[0m \u001b[0mstack_depth\u001b[0m\u001b[0;34m)\u001b[0m\u001b[0;34m\u001b[0m\u001b[0;34m\u001b[0m\u001b[0m\n\u001b[1;32m   2116\u001b[0m             \u001b[0;32mwith\u001b[0m \u001b[0mself\u001b[0m\u001b[0;34m.\u001b[0m\u001b[0mbuiltin_trap\u001b[0m\u001b[0;34m:\u001b[0m\u001b[0;34m\u001b[0m\u001b[0;34m\u001b[0m\u001b[0m\n\u001b[0;32m-> 2117\u001b[0;31m                 \u001b[0mresult\u001b[0m \u001b[0;34m=\u001b[0m \u001b[0mfn\u001b[0m\u001b[0;34m(\u001b[0m\u001b[0mmagic_arg_s\u001b[0m\u001b[0;34m,\u001b[0m \u001b[0mcell\u001b[0m\u001b[0;34m)\u001b[0m\u001b[0;34m\u001b[0m\u001b[0;34m\u001b[0m\u001b[0m\n\u001b[0m\u001b[1;32m   2118\u001b[0m             \u001b[0;32mreturn\u001b[0m \u001b[0mresult\u001b[0m\u001b[0;34m\u001b[0m\u001b[0;34m\u001b[0m\u001b[0m\n\u001b[1;32m   2119\u001b[0m \u001b[0;34m\u001b[0m\u001b[0m\n",
            "\u001b[0;32m<decorator-gen-125>\u001b[0m in \u001b[0;36mexecute\u001b[0;34m(self, line, cell, local_ns)\u001b[0m\n",
            "\u001b[0;32m/usr/local/lib/python3.6/dist-packages/IPython/core/magic.py\u001b[0m in \u001b[0;36m<lambda>\u001b[0;34m(f, *a, **k)\u001b[0m\n\u001b[1;32m    186\u001b[0m     \u001b[0;31m# but it's overkill for just that one bit of state.\u001b[0m\u001b[0;34m\u001b[0m\u001b[0;34m\u001b[0m\u001b[0;34m\u001b[0m\u001b[0m\n\u001b[1;32m    187\u001b[0m     \u001b[0;32mdef\u001b[0m \u001b[0mmagic_deco\u001b[0m\u001b[0;34m(\u001b[0m\u001b[0marg\u001b[0m\u001b[0;34m)\u001b[0m\u001b[0;34m:\u001b[0m\u001b[0;34m\u001b[0m\u001b[0;34m\u001b[0m\u001b[0m\n\u001b[0;32m--> 188\u001b[0;31m         \u001b[0mcall\u001b[0m \u001b[0;34m=\u001b[0m \u001b[0;32mlambda\u001b[0m \u001b[0mf\u001b[0m\u001b[0;34m,\u001b[0m \u001b[0;34m*\u001b[0m\u001b[0ma\u001b[0m\u001b[0;34m,\u001b[0m \u001b[0;34m**\u001b[0m\u001b[0mk\u001b[0m\u001b[0;34m:\u001b[0m \u001b[0mf\u001b[0m\u001b[0;34m(\u001b[0m\u001b[0;34m*\u001b[0m\u001b[0ma\u001b[0m\u001b[0;34m,\u001b[0m \u001b[0;34m**\u001b[0m\u001b[0mk\u001b[0m\u001b[0;34m)\u001b[0m\u001b[0;34m\u001b[0m\u001b[0;34m\u001b[0m\u001b[0m\n\u001b[0m\u001b[1;32m    189\u001b[0m \u001b[0;34m\u001b[0m\u001b[0m\n\u001b[1;32m    190\u001b[0m         \u001b[0;32mif\u001b[0m \u001b[0mcallable\u001b[0m\u001b[0;34m(\u001b[0m\u001b[0marg\u001b[0m\u001b[0;34m)\u001b[0m\u001b[0;34m:\u001b[0m\u001b[0;34m\u001b[0m\u001b[0;34m\u001b[0m\u001b[0m\n",
            "\u001b[0;32m<decorator-gen-124>\u001b[0m in \u001b[0;36mexecute\u001b[0;34m(self, line, cell, local_ns)\u001b[0m\n",
            "\u001b[0;32m/usr/local/lib/python3.6/dist-packages/IPython/core/magic.py\u001b[0m in \u001b[0;36m<lambda>\u001b[0;34m(f, *a, **k)\u001b[0m\n\u001b[1;32m    186\u001b[0m     \u001b[0;31m# but it's overkill for just that one bit of state.\u001b[0m\u001b[0;34m\u001b[0m\u001b[0;34m\u001b[0m\u001b[0;34m\u001b[0m\u001b[0m\n\u001b[1;32m    187\u001b[0m     \u001b[0;32mdef\u001b[0m \u001b[0mmagic_deco\u001b[0m\u001b[0;34m(\u001b[0m\u001b[0marg\u001b[0m\u001b[0;34m)\u001b[0m\u001b[0;34m:\u001b[0m\u001b[0;34m\u001b[0m\u001b[0;34m\u001b[0m\u001b[0m\n\u001b[0;32m--> 188\u001b[0;31m         \u001b[0mcall\u001b[0m \u001b[0;34m=\u001b[0m \u001b[0;32mlambda\u001b[0m \u001b[0mf\u001b[0m\u001b[0;34m,\u001b[0m \u001b[0;34m*\u001b[0m\u001b[0ma\u001b[0m\u001b[0;34m,\u001b[0m \u001b[0;34m**\u001b[0m\u001b[0mk\u001b[0m\u001b[0;34m:\u001b[0m \u001b[0mf\u001b[0m\u001b[0;34m(\u001b[0m\u001b[0;34m*\u001b[0m\u001b[0ma\u001b[0m\u001b[0;34m,\u001b[0m \u001b[0;34m**\u001b[0m\u001b[0mk\u001b[0m\u001b[0;34m)\u001b[0m\u001b[0;34m\u001b[0m\u001b[0;34m\u001b[0m\u001b[0m\n\u001b[0m\u001b[1;32m    189\u001b[0m \u001b[0;34m\u001b[0m\u001b[0m\n\u001b[1;32m    190\u001b[0m         \u001b[0;32mif\u001b[0m \u001b[0mcallable\u001b[0m\u001b[0;34m(\u001b[0m\u001b[0marg\u001b[0m\u001b[0;34m)\u001b[0m\u001b[0;34m:\u001b[0m\u001b[0;34m\u001b[0m\u001b[0;34m\u001b[0m\u001b[0m\n",
            "\u001b[0;32m/usr/local/lib/python3.6/dist-packages/sql/magic.py\u001b[0m in \u001b[0;36mexecute\u001b[0;34m(self, line, cell, local_ns)\u001b[0m\n\u001b[1;32m     93\u001b[0m \u001b[0;34m\u001b[0m\u001b[0m\n\u001b[1;32m     94\u001b[0m         \u001b[0;32mtry\u001b[0m\u001b[0;34m:\u001b[0m\u001b[0;34m\u001b[0m\u001b[0;34m\u001b[0m\u001b[0m\n\u001b[0;32m---> 95\u001b[0;31m             \u001b[0mresult\u001b[0m \u001b[0;34m=\u001b[0m \u001b[0msql\u001b[0m\u001b[0;34m.\u001b[0m\u001b[0mrun\u001b[0m\u001b[0;34m.\u001b[0m\u001b[0mrun\u001b[0m\u001b[0;34m(\u001b[0m\u001b[0mconn\u001b[0m\u001b[0;34m,\u001b[0m \u001b[0mparsed\u001b[0m\u001b[0;34m[\u001b[0m\u001b[0;34m'sql'\u001b[0m\u001b[0;34m]\u001b[0m\u001b[0;34m,\u001b[0m \u001b[0mself\u001b[0m\u001b[0;34m,\u001b[0m \u001b[0muser_ns\u001b[0m\u001b[0;34m)\u001b[0m\u001b[0;34m\u001b[0m\u001b[0;34m\u001b[0m\u001b[0m\n\u001b[0m\u001b[1;32m     96\u001b[0m \u001b[0;34m\u001b[0m\u001b[0m\n\u001b[1;32m     97\u001b[0m             \u001b[0;32mif\u001b[0m \u001b[0mresult\u001b[0m \u001b[0;32mis\u001b[0m \u001b[0;32mnot\u001b[0m \u001b[0;32mNone\u001b[0m \u001b[0;32mand\u001b[0m \u001b[0;32mnot\u001b[0m \u001b[0misinstance\u001b[0m\u001b[0;34m(\u001b[0m\u001b[0mresult\u001b[0m\u001b[0;34m,\u001b[0m \u001b[0mstr\u001b[0m\u001b[0;34m)\u001b[0m \u001b[0;32mand\u001b[0m \u001b[0mself\u001b[0m\u001b[0;34m.\u001b[0m\u001b[0mcolumn_local_vars\u001b[0m\u001b[0;34m:\u001b[0m\u001b[0;34m\u001b[0m\u001b[0;34m\u001b[0m\u001b[0m\n",
            "\u001b[0;32m/usr/local/lib/python3.6/dist-packages/sql/run.py\u001b[0m in \u001b[0;36mrun\u001b[0;34m(conn, sql, config, user_namespace)\u001b[0m\n\u001b[1;32m    338\u001b[0m             \u001b[0;32melse\u001b[0m\u001b[0;34m:\u001b[0m\u001b[0;34m\u001b[0m\u001b[0;34m\u001b[0m\u001b[0m\n\u001b[1;32m    339\u001b[0m                 \u001b[0mtxt\u001b[0m \u001b[0;34m=\u001b[0m \u001b[0msqlalchemy\u001b[0m\u001b[0;34m.\u001b[0m\u001b[0msql\u001b[0m\u001b[0;34m.\u001b[0m\u001b[0mtext\u001b[0m\u001b[0;34m(\u001b[0m\u001b[0mstatement\u001b[0m\u001b[0;34m)\u001b[0m\u001b[0;34m\u001b[0m\u001b[0;34m\u001b[0m\u001b[0m\n\u001b[0;32m--> 340\u001b[0;31m                 \u001b[0mresult\u001b[0m \u001b[0;34m=\u001b[0m \u001b[0mconn\u001b[0m\u001b[0;34m.\u001b[0m\u001b[0msession\u001b[0m\u001b[0;34m.\u001b[0m\u001b[0mexecute\u001b[0m\u001b[0;34m(\u001b[0m\u001b[0mtxt\u001b[0m\u001b[0;34m,\u001b[0m \u001b[0muser_namespace\u001b[0m\u001b[0;34m)\u001b[0m\u001b[0;34m\u001b[0m\u001b[0;34m\u001b[0m\u001b[0m\n\u001b[0m\u001b[1;32m    341\u001b[0m             \u001b[0m_commit\u001b[0m\u001b[0;34m(\u001b[0m\u001b[0mconn\u001b[0m\u001b[0;34m=\u001b[0m\u001b[0mconn\u001b[0m\u001b[0;34m,\u001b[0m \u001b[0mconfig\u001b[0m\u001b[0;34m=\u001b[0m\u001b[0mconfig\u001b[0m\u001b[0;34m)\u001b[0m\u001b[0;34m\u001b[0m\u001b[0;34m\u001b[0m\u001b[0m\n\u001b[1;32m    342\u001b[0m             \u001b[0;32mif\u001b[0m \u001b[0mresult\u001b[0m \u001b[0;32mand\u001b[0m \u001b[0mconfig\u001b[0m\u001b[0;34m.\u001b[0m\u001b[0mfeedback\u001b[0m\u001b[0;34m:\u001b[0m\u001b[0;34m\u001b[0m\u001b[0;34m\u001b[0m\u001b[0m\n",
            "\u001b[0;32m/usr/local/lib/python3.6/dist-packages/sqlalchemy/engine/base.py\u001b[0m in \u001b[0;36mexecute\u001b[0;34m(self, object_, *multiparams, **params)\u001b[0m\n\u001b[1;32m   1009\u001b[0m             )\n\u001b[1;32m   1010\u001b[0m         \u001b[0;32melse\u001b[0m\u001b[0;34m:\u001b[0m\u001b[0;34m\u001b[0m\u001b[0;34m\u001b[0m\u001b[0m\n\u001b[0;32m-> 1011\u001b[0;31m             \u001b[0;32mreturn\u001b[0m \u001b[0mmeth\u001b[0m\u001b[0;34m(\u001b[0m\u001b[0mself\u001b[0m\u001b[0;34m,\u001b[0m \u001b[0mmultiparams\u001b[0m\u001b[0;34m,\u001b[0m \u001b[0mparams\u001b[0m\u001b[0;34m)\u001b[0m\u001b[0;34m\u001b[0m\u001b[0;34m\u001b[0m\u001b[0m\n\u001b[0m\u001b[1;32m   1012\u001b[0m \u001b[0;34m\u001b[0m\u001b[0m\n\u001b[1;32m   1013\u001b[0m     \u001b[0;32mdef\u001b[0m \u001b[0m_execute_function\u001b[0m\u001b[0;34m(\u001b[0m\u001b[0mself\u001b[0m\u001b[0;34m,\u001b[0m \u001b[0mfunc\u001b[0m\u001b[0;34m,\u001b[0m \u001b[0mmultiparams\u001b[0m\u001b[0;34m,\u001b[0m \u001b[0mparams\u001b[0m\u001b[0;34m)\u001b[0m\u001b[0;34m:\u001b[0m\u001b[0;34m\u001b[0m\u001b[0;34m\u001b[0m\u001b[0m\n",
            "\u001b[0;32m/usr/local/lib/python3.6/dist-packages/sqlalchemy/sql/elements.py\u001b[0m in \u001b[0;36m_execute_on_connection\u001b[0;34m(self, connection, multiparams, params)\u001b[0m\n\u001b[1;32m    296\u001b[0m     \u001b[0;32mdef\u001b[0m \u001b[0m_execute_on_connection\u001b[0m\u001b[0;34m(\u001b[0m\u001b[0mself\u001b[0m\u001b[0;34m,\u001b[0m \u001b[0mconnection\u001b[0m\u001b[0;34m,\u001b[0m \u001b[0mmultiparams\u001b[0m\u001b[0;34m,\u001b[0m \u001b[0mparams\u001b[0m\u001b[0;34m)\u001b[0m\u001b[0;34m:\u001b[0m\u001b[0;34m\u001b[0m\u001b[0;34m\u001b[0m\u001b[0m\n\u001b[1;32m    297\u001b[0m         \u001b[0;32mif\u001b[0m \u001b[0mself\u001b[0m\u001b[0;34m.\u001b[0m\u001b[0msupports_execution\u001b[0m\u001b[0;34m:\u001b[0m\u001b[0;34m\u001b[0m\u001b[0;34m\u001b[0m\u001b[0m\n\u001b[0;32m--> 298\u001b[0;31m             \u001b[0;32mreturn\u001b[0m \u001b[0mconnection\u001b[0m\u001b[0;34m.\u001b[0m\u001b[0m_execute_clauseelement\u001b[0m\u001b[0;34m(\u001b[0m\u001b[0mself\u001b[0m\u001b[0;34m,\u001b[0m \u001b[0mmultiparams\u001b[0m\u001b[0;34m,\u001b[0m \u001b[0mparams\u001b[0m\u001b[0;34m)\u001b[0m\u001b[0;34m\u001b[0m\u001b[0;34m\u001b[0m\u001b[0m\n\u001b[0m\u001b[1;32m    299\u001b[0m         \u001b[0;32melse\u001b[0m\u001b[0;34m:\u001b[0m\u001b[0;34m\u001b[0m\u001b[0;34m\u001b[0m\u001b[0m\n\u001b[1;32m    300\u001b[0m             \u001b[0;32mraise\u001b[0m \u001b[0mexc\u001b[0m\u001b[0;34m.\u001b[0m\u001b[0mObjectNotExecutableError\u001b[0m\u001b[0;34m(\u001b[0m\u001b[0mself\u001b[0m\u001b[0;34m)\u001b[0m\u001b[0;34m\u001b[0m\u001b[0;34m\u001b[0m\u001b[0m\n",
            "\u001b[0;32m/usr/local/lib/python3.6/dist-packages/sqlalchemy/engine/base.py\u001b[0m in \u001b[0;36m_execute_clauseelement\u001b[0;34m(self, elem, multiparams, params)\u001b[0m\n\u001b[1;32m   1128\u001b[0m             \u001b[0mdistilled_params\u001b[0m\u001b[0;34m,\u001b[0m\u001b[0;34m\u001b[0m\u001b[0;34m\u001b[0m\u001b[0m\n\u001b[1;32m   1129\u001b[0m             \u001b[0mcompiled_sql\u001b[0m\u001b[0;34m,\u001b[0m\u001b[0;34m\u001b[0m\u001b[0;34m\u001b[0m\u001b[0m\n\u001b[0;32m-> 1130\u001b[0;31m             \u001b[0mdistilled_params\u001b[0m\u001b[0;34m,\u001b[0m\u001b[0;34m\u001b[0m\u001b[0;34m\u001b[0m\u001b[0m\n\u001b[0m\u001b[1;32m   1131\u001b[0m         )\n\u001b[1;32m   1132\u001b[0m         \u001b[0;32mif\u001b[0m \u001b[0mself\u001b[0m\u001b[0;34m.\u001b[0m\u001b[0m_has_events\u001b[0m \u001b[0;32mor\u001b[0m \u001b[0mself\u001b[0m\u001b[0;34m.\u001b[0m\u001b[0mengine\u001b[0m\u001b[0;34m.\u001b[0m\u001b[0m_has_events\u001b[0m\u001b[0;34m:\u001b[0m\u001b[0;34m\u001b[0m\u001b[0;34m\u001b[0m\u001b[0m\n",
            "\u001b[0;32m/usr/local/lib/python3.6/dist-packages/sqlalchemy/engine/base.py\u001b[0m in \u001b[0;36m_execute_context\u001b[0;34m(self, dialect, constructor, statement, parameters, *args)\u001b[0m\n\u001b[1;32m   1315\u001b[0m         \u001b[0;32mexcept\u001b[0m \u001b[0mBaseException\u001b[0m \u001b[0;32mas\u001b[0m \u001b[0me\u001b[0m\u001b[0;34m:\u001b[0m\u001b[0;34m\u001b[0m\u001b[0;34m\u001b[0m\u001b[0m\n\u001b[1;32m   1316\u001b[0m             self._handle_dbapi_exception(\n\u001b[0;32m-> 1317\u001b[0;31m                 \u001b[0me\u001b[0m\u001b[0;34m,\u001b[0m \u001b[0mstatement\u001b[0m\u001b[0;34m,\u001b[0m \u001b[0mparameters\u001b[0m\u001b[0;34m,\u001b[0m \u001b[0mcursor\u001b[0m\u001b[0;34m,\u001b[0m \u001b[0mcontext\u001b[0m\u001b[0;34m\u001b[0m\u001b[0;34m\u001b[0m\u001b[0m\n\u001b[0m\u001b[1;32m   1318\u001b[0m             )\n\u001b[1;32m   1319\u001b[0m \u001b[0;34m\u001b[0m\u001b[0m\n",
            "\u001b[0;32m/usr/local/lib/python3.6/dist-packages/sqlalchemy/engine/base.py\u001b[0m in \u001b[0;36m_handle_dbapi_exception\u001b[0;34m(self, e, statement, parameters, cursor, context)\u001b[0m\n\u001b[1;32m   1509\u001b[0m             \u001b[0;32melif\u001b[0m \u001b[0mshould_wrap\u001b[0m\u001b[0;34m:\u001b[0m\u001b[0;34m\u001b[0m\u001b[0;34m\u001b[0m\u001b[0m\n\u001b[1;32m   1510\u001b[0m                 util.raise_(\n\u001b[0;32m-> 1511\u001b[0;31m                     \u001b[0msqlalchemy_exception\u001b[0m\u001b[0;34m,\u001b[0m \u001b[0mwith_traceback\u001b[0m\u001b[0;34m=\u001b[0m\u001b[0mexc_info\u001b[0m\u001b[0;34m[\u001b[0m\u001b[0;36m2\u001b[0m\u001b[0;34m]\u001b[0m\u001b[0;34m,\u001b[0m \u001b[0mfrom_\u001b[0m\u001b[0;34m=\u001b[0m\u001b[0me\u001b[0m\u001b[0;34m\u001b[0m\u001b[0;34m\u001b[0m\u001b[0m\n\u001b[0m\u001b[1;32m   1512\u001b[0m                 )\n\u001b[1;32m   1513\u001b[0m             \u001b[0;32melse\u001b[0m\u001b[0;34m:\u001b[0m\u001b[0;34m\u001b[0m\u001b[0;34m\u001b[0m\u001b[0m\n",
            "\u001b[0;32m/usr/local/lib/python3.6/dist-packages/sqlalchemy/util/compat.py\u001b[0m in \u001b[0;36mraise_\u001b[0;34m(***failed resolving arguments***)\u001b[0m\n\u001b[1;32m    180\u001b[0m \u001b[0;34m\u001b[0m\u001b[0m\n\u001b[1;32m    181\u001b[0m         \u001b[0;32mtry\u001b[0m\u001b[0;34m:\u001b[0m\u001b[0;34m\u001b[0m\u001b[0;34m\u001b[0m\u001b[0m\n\u001b[0;32m--> 182\u001b[0;31m             \u001b[0;32mraise\u001b[0m \u001b[0mexception\u001b[0m\u001b[0;34m\u001b[0m\u001b[0;34m\u001b[0m\u001b[0m\n\u001b[0m\u001b[1;32m    183\u001b[0m         \u001b[0;32mfinally\u001b[0m\u001b[0;34m:\u001b[0m\u001b[0;34m\u001b[0m\u001b[0;34m\u001b[0m\u001b[0m\n\u001b[1;32m    184\u001b[0m             \u001b[0;31m# credit to\u001b[0m\u001b[0;34m\u001b[0m\u001b[0;34m\u001b[0m\u001b[0;34m\u001b[0m\u001b[0m\n",
            "\u001b[0;32m/usr/local/lib/python3.6/dist-packages/sqlalchemy/engine/base.py\u001b[0m in \u001b[0;36m_execute_context\u001b[0;34m(self, dialect, constructor, statement, parameters, *args)\u001b[0m\n\u001b[1;32m   1275\u001b[0m                 \u001b[0;32mif\u001b[0m \u001b[0;32mnot\u001b[0m \u001b[0mevt_handled\u001b[0m\u001b[0;34m:\u001b[0m\u001b[0;34m\u001b[0m\u001b[0;34m\u001b[0m\u001b[0m\n\u001b[1;32m   1276\u001b[0m                     self.dialect.do_execute(\n\u001b[0;32m-> 1277\u001b[0;31m                         \u001b[0mcursor\u001b[0m\u001b[0;34m,\u001b[0m \u001b[0mstatement\u001b[0m\u001b[0;34m,\u001b[0m \u001b[0mparameters\u001b[0m\u001b[0;34m,\u001b[0m \u001b[0mcontext\u001b[0m\u001b[0;34m\u001b[0m\u001b[0;34m\u001b[0m\u001b[0m\n\u001b[0m\u001b[1;32m   1278\u001b[0m                     )\n\u001b[1;32m   1279\u001b[0m \u001b[0;34m\u001b[0m\u001b[0m\n",
            "\u001b[0;32m/usr/local/lib/python3.6/dist-packages/sqlalchemy/engine/default.py\u001b[0m in \u001b[0;36mdo_execute\u001b[0;34m(self, cursor, statement, parameters, context)\u001b[0m\n\u001b[1;32m    591\u001b[0m \u001b[0;34m\u001b[0m\u001b[0m\n\u001b[1;32m    592\u001b[0m     \u001b[0;32mdef\u001b[0m \u001b[0mdo_execute\u001b[0m\u001b[0;34m(\u001b[0m\u001b[0mself\u001b[0m\u001b[0;34m,\u001b[0m \u001b[0mcursor\u001b[0m\u001b[0;34m,\u001b[0m \u001b[0mstatement\u001b[0m\u001b[0;34m,\u001b[0m \u001b[0mparameters\u001b[0m\u001b[0;34m,\u001b[0m \u001b[0mcontext\u001b[0m\u001b[0;34m=\u001b[0m\u001b[0;32mNone\u001b[0m\u001b[0;34m)\u001b[0m\u001b[0;34m:\u001b[0m\u001b[0;34m\u001b[0m\u001b[0;34m\u001b[0m\u001b[0m\n\u001b[0;32m--> 593\u001b[0;31m         \u001b[0mcursor\u001b[0m\u001b[0;34m.\u001b[0m\u001b[0mexecute\u001b[0m\u001b[0;34m(\u001b[0m\u001b[0mstatement\u001b[0m\u001b[0;34m,\u001b[0m \u001b[0mparameters\u001b[0m\u001b[0;34m)\u001b[0m\u001b[0;34m\u001b[0m\u001b[0;34m\u001b[0m\u001b[0m\n\u001b[0m\u001b[1;32m    594\u001b[0m \u001b[0;34m\u001b[0m\u001b[0m\n\u001b[1;32m    595\u001b[0m     \u001b[0;32mdef\u001b[0m \u001b[0mdo_execute_no_params\u001b[0m\u001b[0;34m(\u001b[0m\u001b[0mself\u001b[0m\u001b[0;34m,\u001b[0m \u001b[0mcursor\u001b[0m\u001b[0;34m,\u001b[0m \u001b[0mstatement\u001b[0m\u001b[0;34m,\u001b[0m \u001b[0mcontext\u001b[0m\u001b[0;34m=\u001b[0m\u001b[0;32mNone\u001b[0m\u001b[0;34m)\u001b[0m\u001b[0;34m:\u001b[0m\u001b[0;34m\u001b[0m\u001b[0;34m\u001b[0m\u001b[0m\n",
            "\u001b[0;31mIntegrityError\u001b[0m: (sqlite3.IntegrityError) UNIQUE constraint failed: Item.itemId\n[SQL: INSERT INTO Item VALUES(2,'box1',2,5);]\n(Background on this error at: http://sqlalche.me/e/13/gkpj)"
          ]
        }
      ]
    },
    {
      "cell_type": "markdown",
      "metadata": {
        "id": "CYuEb7bc8QdK"
      },
      "source": [
        "##Ignore error above"
      ]
    },
    {
      "cell_type": "code",
      "metadata": {
        "id": "WWW55UEtvQRE",
        "colab": {
          "base_uri": "https://localhost:8080/"
        },
        "outputId": "66521abd-2eea-4108-813f-792d1d93fb05"
      },
      "source": [
        "%%sql\n",
        "INSERT INTO item VALUES(6,'box5',5,25);"
      ],
      "execution_count": null,
      "outputs": [
        {
          "output_type": "stream",
          "text": [
            " * sqlite:///amazonDatabase.db\n",
            "1 rows affected.\n"
          ],
          "name": "stdout"
        },
        {
          "output_type": "execute_result",
          "data": {
            "text/plain": [
              "[]"
            ]
          },
          "metadata": {
            "tags": []
          },
          "execution_count": 32
        }
      ]
    },
    {
      "cell_type": "code",
      "metadata": {
        "id": "LPjfFIudvTEv",
        "colab": {
          "base_uri": "https://localhost:8080/",
          "height": 184
        },
        "outputId": "ec9153fa-5687-4e24-c745-e11bc92f4f3e"
      },
      "source": [
        "%%sql\n",
        "select * from Item"
      ],
      "execution_count": null,
      "outputs": [
        {
          "output_type": "stream",
          "text": [
            " * sqlite:///amazonDatabase.db\n",
            "Done.\n"
          ],
          "name": "stdout"
        },
        {
          "output_type": "execute_result",
          "data": {
            "text/html": [
              "<table>\n",
              "    <tr>\n",
              "        <th>itemId</th>\n",
              "        <th>itemName</th>\n",
              "        <th>price</th>\n",
              "        <th>tax</th>\n",
              "    </tr>\n",
              "    <tr>\n",
              "        <td>2.0</td>\n",
              "        <td>box1</td>\n",
              "        <td>2.0</td>\n",
              "        <td>5.0</td>\n",
              "    </tr>\n",
              "    <tr>\n",
              "        <td>3.0</td>\n",
              "        <td>box2</td>\n",
              "        <td>3.0</td>\n",
              "        <td>10.0</td>\n",
              "    </tr>\n",
              "    <tr>\n",
              "        <td>4.0</td>\n",
              "        <td>box3</td>\n",
              "        <td>4.0</td>\n",
              "        <td>15.0</td>\n",
              "    </tr>\n",
              "    <tr>\n",
              "        <td>5.0</td>\n",
              "        <td>box4</td>\n",
              "        <td>5.0</td>\n",
              "        <td>20.0</td>\n",
              "    </tr>\n",
              "    <tr>\n",
              "        <td>6.0</td>\n",
              "        <td>box5</td>\n",
              "        <td>5.0</td>\n",
              "        <td>25.0</td>\n",
              "    </tr>\n",
              "</table>"
            ],
            "text/plain": [
              "[(2.0, 'box1', 2.0, 5.0),\n",
              " (3.0, 'box2', 3.0, 10.0),\n",
              " (4.0, 'box3', 4.0, 15.0),\n",
              " (5.0, 'box4', 5.0, 20.0),\n",
              " (6.0, 'box5', 5.0, 25.0)]"
            ]
          },
          "metadata": {
            "tags": []
          },
          "execution_count": 46
        }
      ]
    },
    {
      "cell_type": "code",
      "metadata": {
        "id": "POtLkw3lvYfP",
        "colab": {
          "base_uri": "https://localhost:8080/"
        },
        "outputId": "9691a529-54f1-47da-b61a-bcd6b7ac1ff6"
      },
      "source": [
        "%%sql\n",
        "CREATE TABLE ShippingMethod(shipperId real primary key, name text, service text, shippingEstimate real);"
      ],
      "execution_count": null,
      "outputs": [
        {
          "output_type": "stream",
          "text": [
            " * sqlite:///amazonDatabase.db\n",
            "Done.\n"
          ],
          "name": "stdout"
        },
        {
          "output_type": "execute_result",
          "data": {
            "text/plain": [
              "[]"
            ]
          },
          "metadata": {
            "tags": []
          },
          "execution_count": 35
        }
      ]
    },
    {
      "cell_type": "code",
      "metadata": {
        "id": "8ssSVcl_vvxF",
        "colab": {
          "base_uri": "https://localhost:8080/"
        },
        "outputId": "78408e97-d8cf-440c-a83a-c358c05518b1"
      },
      "source": [
        "%%sql\n",
        "INSERT INTO ShippingMethod VALUES(1,'shipper1','ups',5);\n",
        "INSERT INTO ShippingMethod VALUES(2,'shipper2','fedex',4);\n",
        "INSERT INTO ShippingMethod VALUES(3,'shipper3','usps',3);\n",
        "INSERT INTO ShippingMethod VALUES(4,'shipper4','dhl',2);\n",
        "INSERT INTO ShippingMethod VALUES(5,'shipper5','epacket',1);"
      ],
      "execution_count": null,
      "outputs": [
        {
          "output_type": "stream",
          "text": [
            " * sqlite:///amazonDatabase.db\n",
            "1 rows affected.\n",
            "1 rows affected.\n",
            "1 rows affected.\n",
            "1 rows affected.\n",
            "1 rows affected.\n"
          ],
          "name": "stdout"
        },
        {
          "output_type": "execute_result",
          "data": {
            "text/plain": [
              "[]"
            ]
          },
          "metadata": {
            "tags": []
          },
          "execution_count": 47
        }
      ]
    },
    {
      "cell_type": "code",
      "metadata": {
        "id": "9yoXz_6LxHTu",
        "colab": {
          "base_uri": "https://localhost:8080/",
          "height": 184
        },
        "outputId": "667bd091-eb94-40ea-dada-f8e7806e5385"
      },
      "source": [
        "%%sql\n",
        "select * from ShippingMethod"
      ],
      "execution_count": null,
      "outputs": [
        {
          "output_type": "stream",
          "text": [
            " * sqlite:///amazonDatabase.db\n",
            "Done.\n"
          ],
          "name": "stdout"
        },
        {
          "output_type": "execute_result",
          "data": {
            "text/html": [
              "<table>\n",
              "    <tr>\n",
              "        <th>shipperId</th>\n",
              "        <th>name</th>\n",
              "        <th>service</th>\n",
              "        <th>shippingEstimate</th>\n",
              "    </tr>\n",
              "    <tr>\n",
              "        <td>1.0</td>\n",
              "        <td>shipper1</td>\n",
              "        <td>ups</td>\n",
              "        <td>5.0</td>\n",
              "    </tr>\n",
              "    <tr>\n",
              "        <td>2.0</td>\n",
              "        <td>shipper2</td>\n",
              "        <td>fedex</td>\n",
              "        <td>4.0</td>\n",
              "    </tr>\n",
              "    <tr>\n",
              "        <td>3.0</td>\n",
              "        <td>shipper3</td>\n",
              "        <td>usps</td>\n",
              "        <td>3.0</td>\n",
              "    </tr>\n",
              "    <tr>\n",
              "        <td>4.0</td>\n",
              "        <td>shipper4</td>\n",
              "        <td>dhl</td>\n",
              "        <td>2.0</td>\n",
              "    </tr>\n",
              "    <tr>\n",
              "        <td>5.0</td>\n",
              "        <td>shipper5</td>\n",
              "        <td>epacket</td>\n",
              "        <td>1.0</td>\n",
              "    </tr>\n",
              "</table>"
            ],
            "text/plain": [
              "[(1.0, 'shipper1', 'ups', 5.0),\n",
              " (2.0, 'shipper2', 'fedex', 4.0),\n",
              " (3.0, 'shipper3', 'usps', 3.0),\n",
              " (4.0, 'shipper4', 'dhl', 2.0),\n",
              " (5.0, 'shipper5', 'epacket', 1.0)]"
            ]
          },
          "metadata": {
            "tags": []
          },
          "execution_count": 48
        }
      ]
    },
    {
      "cell_type": "code",
      "metadata": {
        "id": "5zvdNPMqxRgx",
        "colab": {
          "base_uri": "https://localhost:8080/"
        },
        "outputId": "ab32c461-ef47-4e6a-a3c7-9766a4de8818"
      },
      "source": [
        "%%sql\n",
        "CREATE TABLE Customer(customerId real primary key, firstName text, lastName text, streetAddress text, zipCode real, city text);"
      ],
      "execution_count": null,
      "outputs": [
        {
          "output_type": "stream",
          "text": [
            " * sqlite:///amazonDatabase.db\n",
            "Done.\n"
          ],
          "name": "stdout"
        },
        {
          "output_type": "execute_result",
          "data": {
            "text/plain": [
              "[]"
            ]
          },
          "metadata": {
            "tags": []
          },
          "execution_count": 52
        }
      ]
    },
    {
      "cell_type": "code",
      "metadata": {
        "id": "PWYqjG9kxnky",
        "colab": {
          "base_uri": "https://localhost:8080/"
        },
        "outputId": "e250d18e-5ae8-4fb4-f230-136a1371bfe9"
      },
      "source": [
        "%%sql\n",
        "INSERT INTO Customer VALUES(1,'shane','od','simmons ave',12345,'chalfont');\n",
        "INSERT INTO Customer VALUES(2,'shane','ob','simmons dr',12346,'montgo');\n",
        "INSERT INTO Customer VALUES(3,'shane','oc','simmons rd',12347,'bucks');\n",
        "INSERT INTO Customer VALUES(4,'shane','oe','simmons way',12348,'nittany');\n",
        "INSERT INTO Customer VALUES(5,'shane','of','simmons circle',12349,'state college');\n"
      ],
      "execution_count": null,
      "outputs": [
        {
          "output_type": "stream",
          "text": [
            " * sqlite:///amazonDatabase.db\n",
            "1 rows affected.\n",
            "1 rows affected.\n",
            "1 rows affected.\n",
            "1 rows affected.\n",
            "1 rows affected.\n"
          ],
          "name": "stdout"
        },
        {
          "output_type": "execute_result",
          "data": {
            "text/plain": [
              "[]"
            ]
          },
          "metadata": {
            "tags": []
          },
          "execution_count": 53
        }
      ]
    },
    {
      "cell_type": "code",
      "metadata": {
        "id": "MHQVhxcDyWzd",
        "colab": {
          "base_uri": "https://localhost:8080/",
          "height": 184
        },
        "outputId": "ae87e334-96d6-496d-8160-aed106483b79"
      },
      "source": [
        "%%sql\n",
        "select * from Customer\n"
      ],
      "execution_count": null,
      "outputs": [
        {
          "output_type": "stream",
          "text": [
            " * sqlite:///amazonDatabase.db\n",
            "Done.\n"
          ],
          "name": "stdout"
        },
        {
          "output_type": "execute_result",
          "data": {
            "text/html": [
              "<table>\n",
              "    <tr>\n",
              "        <th>customerId</th>\n",
              "        <th>firstName</th>\n",
              "        <th>lastName</th>\n",
              "        <th>streetAddress</th>\n",
              "        <th>zipCode</th>\n",
              "        <th>city</th>\n",
              "    </tr>\n",
              "    <tr>\n",
              "        <td>1.0</td>\n",
              "        <td>shane</td>\n",
              "        <td>od</td>\n",
              "        <td>simmons ave</td>\n",
              "        <td>12345.0</td>\n",
              "        <td>chalfont</td>\n",
              "    </tr>\n",
              "    <tr>\n",
              "        <td>2.0</td>\n",
              "        <td>shane</td>\n",
              "        <td>ob</td>\n",
              "        <td>simmons dr</td>\n",
              "        <td>12346.0</td>\n",
              "        <td>montgo</td>\n",
              "    </tr>\n",
              "    <tr>\n",
              "        <td>3.0</td>\n",
              "        <td>shane</td>\n",
              "        <td>oc</td>\n",
              "        <td>simmons rd</td>\n",
              "        <td>12347.0</td>\n",
              "        <td>bucks</td>\n",
              "    </tr>\n",
              "    <tr>\n",
              "        <td>4.0</td>\n",
              "        <td>shane</td>\n",
              "        <td>oe</td>\n",
              "        <td>simmons way</td>\n",
              "        <td>12348.0</td>\n",
              "        <td>nittany</td>\n",
              "    </tr>\n",
              "    <tr>\n",
              "        <td>5.0</td>\n",
              "        <td>shane</td>\n",
              "        <td>of</td>\n",
              "        <td>simmons circle</td>\n",
              "        <td>12349.0</td>\n",
              "        <td>state college</td>\n",
              "    </tr>\n",
              "</table>"
            ],
            "text/plain": [
              "[(1.0, 'shane', 'od', 'simmons ave', 12345.0, 'chalfont'),\n",
              " (2.0, 'shane', 'ob', 'simmons dr', 12346.0, 'montgo'),\n",
              " (3.0, 'shane', 'oc', 'simmons rd', 12347.0, 'bucks'),\n",
              " (4.0, 'shane', 'oe', 'simmons way', 12348.0, 'nittany'),\n",
              " (5.0, 'shane', 'of', 'simmons circle', 12349.0, 'state college')]"
            ]
          },
          "metadata": {
            "tags": []
          },
          "execution_count": 55
        }
      ]
    },
    {
      "cell_type": "code",
      "metadata": {
        "id": "SQf0HhTEysBF",
        "colab": {
          "base_uri": "https://localhost:8080/"
        },
        "outputId": "82e17203-c79c-4e56-d2f0-efa9185cf380"
      },
      "source": [
        "%%sql\n",
        "CREATE TABLE PaymentMethod(PaymentMethodId real primary key, name text, company text, authorizationMethod text);"
      ],
      "execution_count": null,
      "outputs": [
        {
          "output_type": "stream",
          "text": [
            " * sqlite:///amazonDatabase.db\n",
            "Done.\n"
          ],
          "name": "stdout"
        },
        {
          "output_type": "execute_result",
          "data": {
            "text/plain": [
              "[]"
            ]
          },
          "metadata": {
            "tags": []
          },
          "execution_count": 57
        }
      ]
    },
    {
      "cell_type": "code",
      "metadata": {
        "id": "zPjEzkIXy7qp",
        "colab": {
          "base_uri": "https://localhost:8080/"
        },
        "outputId": "1f490be6-9485-421b-dc09-498f6a2bcefb"
      },
      "source": [
        "%%sql\n",
        "INSERT INTO PaymentMethod VALUES(1,'visa','visa','card');\n",
        "INSERT INTO PaymentMethod VALUES(2,'master card','master card','card');\n",
        "INSERT INTO PaymentMethod VALUES(3,'paypal','paypal','online');\n",
        "INSERT INTO PaymentMethod VALUES(4,'venmo','paypal','online');\n",
        "INSERT INTO PaymentMethod VALUES(5,'moneygram','money gram','online');"
      ],
      "execution_count": null,
      "outputs": [
        {
          "output_type": "stream",
          "text": [
            " * sqlite:///amazonDatabase.db\n",
            "1 rows affected.\n",
            "1 rows affected.\n",
            "1 rows affected.\n",
            "1 rows affected.\n",
            "1 rows affected.\n"
          ],
          "name": "stdout"
        },
        {
          "output_type": "execute_result",
          "data": {
            "text/plain": [
              "[]"
            ]
          },
          "metadata": {
            "tags": []
          },
          "execution_count": 58
        }
      ]
    },
    {
      "cell_type": "code",
      "metadata": {
        "id": "BQtYRFDOzhTo",
        "colab": {
          "base_uri": "https://localhost:8080/",
          "height": 184
        },
        "outputId": "f080a433-47d8-402d-fa0b-7c641f3a0188"
      },
      "source": [
        "%%sql\n",
        "\n",
        "select * from PaymentMethod"
      ],
      "execution_count": null,
      "outputs": [
        {
          "output_type": "stream",
          "text": [
            " * sqlite:///amazonDatabase.db\n",
            "Done.\n"
          ],
          "name": "stdout"
        },
        {
          "output_type": "execute_result",
          "data": {
            "text/html": [
              "<table>\n",
              "    <tr>\n",
              "        <th>PaymentMethodId</th>\n",
              "        <th>name</th>\n",
              "        <th>company</th>\n",
              "        <th>authorizationMethod</th>\n",
              "    </tr>\n",
              "    <tr>\n",
              "        <td>1.0</td>\n",
              "        <td>visa</td>\n",
              "        <td>visa</td>\n",
              "        <td>card</td>\n",
              "    </tr>\n",
              "    <tr>\n",
              "        <td>2.0</td>\n",
              "        <td>master card</td>\n",
              "        <td>master card</td>\n",
              "        <td>card</td>\n",
              "    </tr>\n",
              "    <tr>\n",
              "        <td>3.0</td>\n",
              "        <td>paypal</td>\n",
              "        <td>paypal</td>\n",
              "        <td>online</td>\n",
              "    </tr>\n",
              "    <tr>\n",
              "        <td>4.0</td>\n",
              "        <td>venmo</td>\n",
              "        <td>paypal</td>\n",
              "        <td>online</td>\n",
              "    </tr>\n",
              "    <tr>\n",
              "        <td>5.0</td>\n",
              "        <td>moneygram</td>\n",
              "        <td>money gram</td>\n",
              "        <td>online</td>\n",
              "    </tr>\n",
              "</table>"
            ],
            "text/plain": [
              "[(1.0, 'visa', 'visa', 'card'),\n",
              " (2.0, 'master card', 'master card', 'card'),\n",
              " (3.0, 'paypal', 'paypal', 'online'),\n",
              " (4.0, 'venmo', 'paypal', 'online'),\n",
              " (5.0, 'moneygram', 'money gram', 'online')]"
            ]
          },
          "metadata": {
            "tags": []
          },
          "execution_count": 62
        }
      ]
    },
    {
      "cell_type": "markdown",
      "metadata": {
        "id": "DWM_aXlJXW6W"
      },
      "source": [
        "#Create 3 queries that would help either you or the user from this scenario and explain why this would be helpful(Final)"
      ]
    },
    {
      "cell_type": "markdown",
      "metadata": {
        "id": "Jk0FLXHzZT43"
      },
      "source": [
        "##Create a scenario for an average user wanting to use your services, products, or activity"
      ]
    },
    {
      "cell_type": "markdown",
      "metadata": {
        "id": "bRPhvqFT5tDA"
      },
      "source": [
        "##Explanation\n",
        "*Each explanation is between 50-150 words\n",
        "\n",
        "There are many times when there are time constraints on when a customer needs an item by. Therefore, the question of what carrier will ship an item in less than four days is very applicable to the company I chose to create the database about. Since I made the database, I knew what carriers’ times less than four days had, so I was not surprised by the result.\n",
        "\n",
        "Amazon is constantly updating their payment methods based on their relationships with payment providers. In the event that one provider does not fit their company, they may suspend the use of that method, or get rid of it completely. I was not surprised by the result, as I was the one who put the two methods in that are owned by PayPal.\n",
        "\n",
        "The third question is the most complex in terms of the query that was used to find the solution. It involves two tables and finds the order that has a road with the word “simmons” in it. This would be used in the case that a delivery driver is on a road with simmons in it where they know there is a package to be dropped off. If they perform this function, they will get a list of orders to a road with simmons in it. This is similar to google suggestions in that the search terms that are displayed underneath already contain the words that you typed in the search box. The results did not surprise me, as I was the one who established the data in the database. \n"
      ]
    },
    {
      "cell_type": "markdown",
      "metadata": {
        "id": "pcjxjVve0CQU"
      },
      "source": [
        "##Three Questions:\n",
        "1. A customer needs an item in less than four days. What carriers offer shipping with an estimate of less than four days?"
      ]
    },
    {
      "cell_type": "code",
      "metadata": {
        "id": "I8qpXzkl0IUK",
        "colab": {
          "base_uri": "https://localhost:8080/",
          "height": 142
        },
        "outputId": "6b30b5c1-c710-4504-d0fc-70bf60929d94"
      },
      "source": [
        "%%sql \n",
        "select service from ShippingMethod where shippingEstimate < 4;"
      ],
      "execution_count": null,
      "outputs": [
        {
          "output_type": "stream",
          "text": [
            " * sqlite:///amazonDatabase.db\n",
            "Done.\n"
          ],
          "name": "stdout"
        },
        {
          "output_type": "execute_result",
          "data": {
            "text/html": [
              "<table>\n",
              "    <tr>\n",
              "        <th>service</th>\n",
              "    </tr>\n",
              "    <tr>\n",
              "        <td>usps</td>\n",
              "    </tr>\n",
              "    <tr>\n",
              "        <td>dhl</td>\n",
              "    </tr>\n",
              "    <tr>\n",
              "        <td>epacket</td>\n",
              "    </tr>\n",
              "</table>"
            ],
            "text/plain": [
              "[('usps',), ('dhl',), ('epacket',)]"
            ]
          },
          "metadata": {
            "tags": []
          },
          "execution_count": 63
        }
      ]
    },
    {
      "cell_type": "markdown",
      "metadata": {
        "id": "joJQq_CI01TE"
      },
      "source": [
        "2.Amazon is not happy with Paypal as a company, for this reason they have decided to remove their payments for one year. What Paypal owned payments will they remove?\n"
      ]
    },
    {
      "cell_type": "code",
      "metadata": {
        "id": "dTsjTV6U1Gct",
        "colab": {
          "base_uri": "https://localhost:8080/",
          "height": 120
        },
        "outputId": "5213fecf-371b-4734-f8a8-33e8090a67da"
      },
      "source": [
        "%%sql\n",
        "select name from PaymentMethod where company = 'paypal';"
      ],
      "execution_count": null,
      "outputs": [
        {
          "output_type": "stream",
          "text": [
            " * sqlite:///amazonDatabase.db\n",
            "Done.\n"
          ],
          "name": "stdout"
        },
        {
          "output_type": "execute_result",
          "data": {
            "text/html": [
              "<table>\n",
              "    <tr>\n",
              "        <th>name</th>\n",
              "    </tr>\n",
              "    <tr>\n",
              "        <td>paypal</td>\n",
              "    </tr>\n",
              "    <tr>\n",
              "        <td>venmo</td>\n",
              "    </tr>\n",
              "</table>"
            ],
            "text/plain": [
              "[('paypal',), ('venmo',)]"
            ]
          },
          "metadata": {
            "tags": []
          },
          "execution_count": 66
        }
      ]
    },
    {
      "cell_type": "markdown",
      "metadata": {
        "id": "UnetLnzD1m8l"
      },
      "source": [
        "3.What orders have a customer that lives on a road tht contains the word \"simmons\" in it?"
      ]
    },
    {
      "cell_type": "code",
      "metadata": {
        "id": "TQEl6dXF15yv",
        "colab": {
          "base_uri": "https://localhost:8080/",
          "height": 184
        },
        "outputId": "556e4ba6-501c-429b-8cdb-ac3e2d5d28a8"
      },
      "source": [
        "%%sql\n",
        "select j.orderID, i.streetAddress from Orders j, Customer i where j.customer=i.customerId AND i.streetAddress LIKE 'simmons%' ;"
      ],
      "execution_count": null,
      "outputs": [
        {
          "output_type": "stream",
          "text": [
            " * sqlite:///amazonDatabase.db\n",
            "Done.\n"
          ],
          "name": "stdout"
        },
        {
          "output_type": "execute_result",
          "data": {
            "text/html": [
              "<table>\n",
              "    <tr>\n",
              "        <th>orderId</th>\n",
              "        <th>streetAddress</th>\n",
              "    </tr>\n",
              "    <tr>\n",
              "        <td>1.0</td>\n",
              "        <td>simmons ave</td>\n",
              "    </tr>\n",
              "    <tr>\n",
              "        <td>2.0</td>\n",
              "        <td>simmons dr</td>\n",
              "    </tr>\n",
              "    <tr>\n",
              "        <td>3.0</td>\n",
              "        <td>simmons rd</td>\n",
              "    </tr>\n",
              "    <tr>\n",
              "        <td>4.0</td>\n",
              "        <td>simmons way</td>\n",
              "    </tr>\n",
              "    <tr>\n",
              "        <td>5.0</td>\n",
              "        <td>simmons circle</td>\n",
              "    </tr>\n",
              "</table>"
            ],
            "text/plain": [
              "[(1.0, 'simmons ave'),\n",
              " (2.0, 'simmons dr'),\n",
              " (3.0, 'simmons rd'),\n",
              " (4.0, 'simmons way'),\n",
              " (5.0, 'simmons circle')]"
            ]
          },
          "metadata": {
            "tags": []
          },
          "execution_count": 80
        }
      ]
    },
    {
      "cell_type": "markdown",
      "metadata": {
        "id": "aXN5nOTk2naE"
      },
      "source": [
        "#Information from last group assignment"
      ]
    },
    {
      "cell_type": "markdown",
      "metadata": {
        "id": "XtkzDBXSYnxS"
      },
      "source": [
        "##What is your idea?\r\n",
        "\r\n",
        "-- To analyze how Amazon provides arguably the world's best ecommerce interface for shoppers. We want to look into how this form of online shopping appeals to so many people.\r\n",
        "what makes it unique?\r\n",
        "\r\n",
        "-- The company we are looking at has pioneered the eCommerce sector and has continued to be the leader in its field. It is also the top sales platform in the world.\r\n",
        "is this a brand-new product or business, or are you borrowing from another business?\r\n",
        "\r\n",
        "-- Amazon is a well-established Brand and business. Started as an online shopping company they have now extended way past their original market of online shopping, but we are keeping it withi the context of the online shopping platform.\r\n",
        "describe a typical business interaction or a day at your business.\r\n",
        "\r\n",
        "-- When someone places an order on the website it is sent in to the distributor of the product first. Once the product has been ordered, it will be shipped to an amazon package handling complex. The package will then be prepared to ship to the next closest amazon center or the closest package handler to the address. Then either an Amazon delivery truck will deliver the package or a trusted package company like UPS or FedEx will deliver the package.\r\n",
        "provide a goal for your project\r\n",
        "\r\n",
        "-- We want to look at how Amazon collects such vast amount of data from their users. With Amazon being such a large operation with so much data, we want to see how their collection and organization of this large amount of data make them the leader of eCommerce.\r\n",
        "Description of project\r\n",
        "##Description of project\r\n",
        "--We decided to narrow our focus to the Amazon Online Shopping platform. We are specifically looking at the order process. For that reason, we separated this process into the following entities. Order has orderid as the primary key to identify the specific order in the database. It utilizes the foreign keys customer, item, shipping method, and payment method. All foreign keys are used to provide the information that is needed for the ordering process. The item entity holds all the information needed to identify an item in the order process. It has the primary key itemid and attributes itemname, price, and tax. It is connected to order as an order contains one to many (in this case 100) items. The customer entity holds the attributes necessary to identify the customer and their address. It has the primary key customerid with attributes firstname, lastname, streetaddress, city, and zipcode. It is connected to order as one customer can buy buy zero to many (1000) orders. The shipping method entity holds the data necessary for the fulfillment process. It contains the primary key shipperid and attributes name, service, and shipping estimate (in days). It is connected to orders by one to many orders can be fulfilled by one shipping method. The payment method entity contains all the information needed to process the payment of an order. It contains the primary key paymentmethodid and attributes name, company, and authorization method (card, online, transfer). It is connected to order as one to many orders are authorized by a specific one payment method. The table is normalized into first normal form by removing repeating groups, giving each table a primary key, and creating separate tables for each related set of data.\r\n"
      ]
    }
  ]
}