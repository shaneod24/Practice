{
  "nbformat": 4,
  "nbformat_minor": 0,
  "metadata": {
    "colab": {
      "name": "Copy of  GroupAssignment1-Template.ipynb",
      "provenance": [],
      "include_colab_link": true
    },
    "kernelspec": {
      "name": "python3",
      "display_name": "Python 3"
    }
  },
  "cells": [
    {
      "cell_type": "markdown",
      "metadata": {
        "id": "view-in-github",
        "colab_type": "text"
      },
      "source": [
        "<a href=\"https://colab.research.google.com/github/shaneod24/Practice/blob/master/Copy_of_GroupAssignment3_Template.ipynb\" target=\"_parent\"><img src=\"https://colab.research.google.com/assets/colab-badge.svg\" alt=\"Open In Colab\"/></a>"
      ]
    },
    {
      "cell_type": "markdown",
      "metadata": {
        "id": "UblhAIGuGF27"
      },
      "source": [
        "# Amazon Online Shopping Data Study"
      ]
    },
    {
      "cell_type": "markdown",
      "metadata": {
        "id": "RlR0_Ol4GW3b"
      },
      "source": [
        "### what is your idea?"
      ]
    },
    {
      "cell_type": "markdown",
      "metadata": {
        "id": "HU68Zv5MGY97"
      },
      "source": [
        "-- To analyze how Amazon provides arguably the world's best ecommerce interface for shoppers. We want to look into how this form of online shopping appeals to so many people. "
      ]
    },
    {
      "cell_type": "markdown",
      "metadata": {
        "id": "45Q0PBrIGiIg"
      },
      "source": [
        "### what makes it unique?"
      ]
    },
    {
      "cell_type": "markdown",
      "metadata": {
        "id": "8WOfTAuqGjoc"
      },
      "source": [
        "-- The company we are looking at has pioneered the eCommerce sector and has continued to be the leader in its field. It is also the top sales platform in the world."
      ]
    },
    {
      "cell_type": "markdown",
      "metadata": {
        "id": "dVrktWdXGl19"
      },
      "source": [
        "### is this a brand-new product or business, or are you borrowing from another business?"
      ]
    },
    {
      "cell_type": "markdown",
      "metadata": {
        "id": "MmGY0leUGnaN"
      },
      "source": [
        "-- Amazon is a well established Brand and buisness. Started as an online shopping company they have now extended way past their original market of online shopping, but we are keeping it withi the context of the online shopping platform. "
      ]
    },
    {
      "cell_type": "markdown",
      "metadata": {
        "id": "k3oJzVDPGnws"
      },
      "source": [
        "### describe a typical business interaction or a day at your business."
      ]
    },
    {
      "cell_type": "markdown",
      "metadata": {
        "id": "GeEKl-lUG1x5"
      },
      "source": [
        "-- When someone places an order on the website it is sent in to the distributor of the product first. Once the product has been ordered, it will be shipped to an amazon package handling complex. The package will then be prepared to ship to the next closest amazon center or the cloesest package handler to the address. Then either an Amazon delivery truck will deliver the package or a trusted package comapny like UPS or FedEx wiill deliver the package.  "
      ]
    },
    {
      "cell_type": "markdown",
      "metadata": {
        "id": "iUFoC5BuGpID"
      },
      "source": [
        "### list your 5 entities/tables and for each, provide details about what data will be stored in the entities/tables."
      ]
    },
    {
      "cell_type": "markdown",
      "metadata": {
        "id": "AiZXrfSMGqZm"
      },
      "source": [
        "1. Order\n",
        "\n",
        "--The specific data that is needed for the fulfillment and payment process is contained in the order entity. This includes orderid, customer, item, shipping method, and payment method. \n",
        "\n",
        "2. Customer\n",
        "\n",
        "-- This entity holds the neccessary data to identify the customer in the buying process and set address parameters. This entity includes the attributes customerid, first name, last name, street address, city, and zip code\n",
        "\n",
        "3. Payment Method\n",
        "\n",
        "-- This table holds the data that is needed to process the payment in the buying process. This includes the attributes paymentmethodid, name, company, and authorization method\n",
        "\n",
        "4. Item\n",
        "\n",
        "-- This entity holds the data needed to identify and get characteristics of an item in an order. This entity has the attributes itemid, itemname, price, and tax.\n",
        "\n",
        "5. shipping Method\n",
        "\n",
        "-- This entity holds the data needed for the shipping process of Amazon orders. This entity has the attributes shipperid,name, service, and shipping estimate."
      ]
    },
    {
      "cell_type": "markdown",
      "metadata": {
        "id": "h2mJWTewHLSn"
      },
      "source": [
        "Draw IO Entity Relationship Diagram \n",
        "\n",
        "- save your ER Diagram in Draw.io as PNG and upload it to GitHub\n",
        "\n",
        "  - then add an image to your notebook\n",
        "\n",
        "![Our diagram](https://raw.githubusercontent.com/shaneod24/Practice/master/Images/this.png)\n",
        "\n"
      ]
    },
    {
      "cell_type": "markdown",
      "metadata": {
        "id": "WFQXwieoHiCe"
      },
      "source": [
        "### provide a goal for your project "
      ]
    },
    {
      "cell_type": "markdown",
      "metadata": {
        "id": "cKmoiVHrHnHF"
      },
      "source": [
        "-- We want to look at how Amazon collects such vast amount of data from their users. With Amazon being such a large operation with so much data, we want to see how their collection and organization of this large amount of data make them the leader of eCommerce."
      ]
    },
    {
      "cell_type": "markdown",
      "metadata": {
        "id": "LFJ7m63WuGZq"
      },
      "source": [
        "### Description of project"
      ]
    },
    {
      "cell_type": "markdown",
      "metadata": {
        "id": "4sVZTX2ouRtv"
      },
      "source": [
        "--We decided to narrow our focus to the Amazon Online Shopping platform. We are specifically looking at the order process. For that reason, we seperated this process into the following entities. Order has orderid as the primary key to identify the specific order in the database. It utilizes the foreign keys customer, item, shipping method, and payment method. All foreign keys are used to provide the information that is needed for the ordering process. The item entity holds all the information needed to identify an item in the order process. It has the primary key itemid and attributes itemname, price, and tax. It is connected to order as an order contains one to many (in this case 100) items. The customer entity holds the attributes necessary to identify the customer and their address. It has the primary key customerid with attributes firstname, lastname, streetaddress, city, and zipcode. It is connected to order as one customer can buy buy zero to many (1000) orders. The shipping method entity holds the data necessary for the fulfillment process. It contains the primary key shipperid and attributes name, service, and shipping estimate (in days). It is connected to orders by one to many orders can be fulfilled by one shipping method. The payment method entity contains all the information needed to process the payment of an order. It contains the primary key paymentmethodid and attributes name, company, and authorization method (card, online, transfer). It is connected to order as one to many orders are authorized by a specific one payment method. The table is normalized into first normal form by removing repeating groups, giving each table a primary key, and creating separate tables for each related set of data\n",
        "\n"
      ]
    }
  ]
}