{
  "nbformat": 4,
  "nbformat_minor": 0,
  "metadata": {
    "colab": {
      "name": "LabOne.ipynb",
      "provenance": [],
      "collapsed_sections": [],
      "toc_visible": true,
      "authorship_tag": "ABX9TyOLq3UQ7Q+UWoBAkVpFoFzU",
      "include_colab_link": true
    },
    "kernelspec": {
      "name": "python3",
      "display_name": "Python 3"
    }
  },
  "cells": [
    {
      "cell_type": "markdown",
      "metadata": {
        "id": "view-in-github",
        "colab_type": "text"
      },
      "source": [
        "<a href=\"https://colab.research.google.com/github/shaneod24/Practice/blob/master/LabOne.ipynb\" target=\"_parent\"><img src=\"https://colab.research.google.com/assets/colab-badge.svg\" alt=\"Open In Colab\"/></a>"
      ]
    },
    {
      "cell_type": "code",
      "metadata": {
        "id": "H3me9WjFcHAO",
        "colab_type": "code",
        "colab": {}
      },
      "source": [
        ""
      ],
      "execution_count": null,
      "outputs": []
    },
    {
      "cell_type": "markdown",
      "metadata": {
        "id": "ECK0UgNVdD2x",
        "colab_type": "text"
      },
      "source": [
        "### Do you like using Jupyter Notebooks?"
      ]
    },
    {
      "cell_type": "markdown",
      "metadata": {
        "id": "ZctVx2Oo1Ef8",
        "colab_type": "text"
      },
      "source": [
        "Yes I like using jupiter notebooks a lot.I like the combination of text and code."
      ]
    },
    {
      "cell_type": "markdown",
      "metadata": {
        "id": "cVI36gwS1kAt",
        "colab_type": "text"
      },
      "source": [
        "### What do you want to learn more about in jupyter Notebooks"
      ]
    },
    {
      "cell_type": "markdown",
      "metadata": {
        "id": "8jesNbel14c-",
        "colab_type": "text"
      },
      "source": [
        "I want to learn about the other integrations. I also want to learn how to connect to SQL."
      ]
    },
    {
      "cell_type": "markdown",
      "metadata": {
        "id": "HMYDeRzD2DEg",
        "colab_type": "text"
      },
      "source": [
        "![eagles](https://raw.githubusercontent.com/shaneod24/Practice/master/Images/960.png)"
      ]
    }
  ]
}