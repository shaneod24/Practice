{
  "nbformat": 4,
  "nbformat_minor": 0,
  "metadata": {
    "colab": {
      "name": "Lab2.ipynb",
      "provenance": [],
      "collapsed_sections": [],
      "toc_visible": true,
      "authorship_tag": "ABX9TyO0Mpvw154dTELCkvRUhIxB",
      "include_colab_link": true
    },
    "kernelspec": {
      "name": "python3",
      "display_name": "Python 3"
    }
  },
  "cells": [
    {
      "cell_type": "markdown",
      "metadata": {
        "id": "view-in-github",
        "colab_type": "text"
      },
      "source": [
        "<a href=\"https://colab.research.google.com/github/shaneod24/Practice/blob/master/Lab2.ipynb\" target=\"_parent\"><img src=\"https://colab.research.google.com/assets/colab-badge.svg\" alt=\"Open In Colab\"/></a>"
      ]
    },
    {
      "cell_type": "markdown",
      "metadata": {
        "id": "a-6g7Yz7S8s1"
      },
      "source": [
        "###Prompt"
      ]
    },
    {
      "cell_type": "markdown",
      "metadata": {
        "id": "4ii4FXfnS9yc"
      },
      "source": [
        "You just started working at a local pet shop, and you mention to your manager that a database might be helpful for the business. They agree, and you are tasked with creating an Entity Relationship Diagram. Here is the basic business model:"
      ]
    },
    {
      "cell_type": "markdown",
      "metadata": {
        "id": "cVI36gwS1kAt"
      },
      "source": [
        "### Response"
      ]
    },
    {
      "cell_type": "markdown",
      "metadata": {
        "id": "cL5dJt4NP9xI"
      },
      "source": [
        "First off, the pets to enclosures relation is that pets are kept in enclosures and enclosures keep pets. Each enclosure can hold numerous pets, but one pet can only be kept in one enclosure at a time. Pets are fed food and food is fed to pets. Any one specific food can be fed to zero to many different pets. Pets are included in transactions and transactions include pets(adoption). Any one transaction can include zero to many pets. Food is included in transactions and transactions include food. Any one transaction can contain zero to many types of food. Customers execute transactions and transactions are executed by customers. Any one customer can execute zero to many transactions. Customers use the loyalty program and the loyalty program is used by customers. Any one customer will have one and only one loyalty program account. The loyalty program applies to transactions and transactions apply the loyalty program. Any one loyalty program account can be applied to zero to many transactions."
      ]
    },
    {
      "cell_type": "markdown",
      "metadata": {
        "id": "HMYDeRzD2DEg"
      },
      "source": [
        "![er diagram](https://raw.githubusercontent.com/shaneod24/Practice/master/Images/this.png)"
      ]
    }
  ]
}